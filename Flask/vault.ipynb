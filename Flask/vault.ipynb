{
 "cells": [
  {
   "cell_type": "code",
   "execution_count": 2,
   "metadata": {},
   "outputs": [],
   "source": [
    "from cryptography.fernet import Fernet, MultiFernet\n",
    "import sqlite3"
   ]
  },
  {
   "cell_type": "code",
   "execution_count": 3,
   "metadata": {},
   "outputs": [
    {
     "name": "stdout",
     "output_type": "stream",
     "text": [
      "Password:  Siva1798*\n"
     ]
    }
   ],
   "source": [
    "connection = sqlite3.connect(\"/Users/sivasubramaniyan.k/Git_Codes/Flask/DB/vault.db\")\n",
    "cur = connection.cursor()\n",
    "username = 'sivak'\n",
    "db_fetch_name = cur.execute(f\"select * from users where username = '{username}' ;\").fetchone()[1]\n",
    "my_password = cur.execute(f\"select PASSWORD from users where username = '{username}';\").fetchone()[0]\n",
    "password = my_password.encode()\n",
    "key = cur.execute(f\" select KEY from users where username = '{username}';\").fetchone()[0]\n",
    "f = Fernet(key)\n",
    "decMessage = f.decrypt(password).decode()\n",
    "print(\"Password: \",decMessage)\n",
    "connection.close()"
   ]
  },
  {
   "cell_type": "code",
   "execution_count": null,
   "metadata": {},
   "outputs": [],
   "source": []
  }
 ],
 "metadata": {
  "interpreter": {
   "hash": "aee8b7b246df8f9039afb4144a1f6fd8d2ca17a180786b69acc140d282b71a49"
  },
  "kernelspec": {
   "display_name": "Python 3.9.7 64-bit",
   "language": "python",
   "name": "python3"
  },
  "language_info": {
   "codemirror_mode": {
    "name": "ipython",
    "version": 3
   },
   "file_extension": ".py",
   "mimetype": "text/x-python",
   "name": "python",
   "nbconvert_exporter": "python",
   "pygments_lexer": "ipython3",
   "version": "3.9.7"
  },
  "orig_nbformat": 4
 },
 "nbformat": 4,
 "nbformat_minor": 2
}
